{
 "cells": [
  {
   "cell_type": "code",
   "execution_count": 1,
   "metadata": {},
   "outputs": [],
   "source": [
    "# Set directories \n",
    "import os\n",
    "import sys\n",
    "\n",
    "src_dir = os.path.join(os.getcwd(), '..', 'src')\n",
    "sys.path.append(src_dir)\n",
    "data_dir = os.path.join(os.getcwd(), '..', 'data')\n",
    " \n",
    "#from IPython.core.debugger import set_trace\n",
    "\n",
    "\n",
    "# Import Functions\n",
    "import pandas as pd\n",
    "import numpy as np\n",
    "from d00_utils.ImportFiles import ImportOrders,ImportAddInfos,SaveSampleOfOrders\n",
    "from d01_preprocess.PrepTargetFlatfile import JoinOrderProductFiles,PrepFlatfile,PrepTarget\n",
    "from d01_preprocess.PrepFtRecFreq import UserItemFreq,GeneralItemFreq,LastOrdOfItem, TimeToLastOrd\n",
    "from d01_preprocess.PrepAddFeatures import AvgToCardOrder\n",
    "from d01_preprocess.PrepTimeOfDay import OrderTimeofdayConverter, AddTimeOfDay,PrepTimeOfDayUser,PrepTimeOfDayProduct\n",
    "\n",
    "\n"
   ]
  },
  {
   "cell_type": "markdown",
   "metadata": {},
   "source": [
    "First of all I am going to filter the orders and order_product dataframes in a way that there is only data for a small subset of users. With this data I will be able to experiment quicker. \n"
   ]
  },
  {
   "cell_type": "code",
   "execution_count": 2,
   "metadata": {},
   "outputs": [],
   "source": [
    "order_products__prior, order_products__train, orders = ImportOrders(data_dir,False)\n",
    "#SaveSampleOfOrders(data_dir,order_products__prior, order_products__train, orders,100)\n"
   ]
  },
  {
   "cell_type": "code",
   "execution_count": 3,
   "metadata": {},
   "outputs": [],
   "source": [
    "#order_products__prior, order_products__train, orders = ImportOrders(data_dir,small_sample=True)\n",
    "#aisles,deparments,products = ImportAddInfos(data_dir)\n"
   ]
  },
  {
   "cell_type": "markdown",
   "metadata": {},
   "source": [
    "The order product dataframes are going to be joined and some additional information is joined to the data from the orders dataframe"
   ]
  },
  {
   "cell_type": "code",
   "execution_count": 4,
   "metadata": {},
   "outputs": [],
   "source": [
    "order_products_gesamt = JoinOrderProductFiles(order_products__prior,order_products__train,orders)"
   ]
  },
  {
   "cell_type": "markdown",
   "metadata": {},
   "source": [
    "# Prepare Flatfile and Target\n",
    "\n",
    "The flatfile is created as follows. The train order is filtered out and products from all previous orders are grouped by user, product_id. For every user which is in the training set, we get a dataframe with all the products which were already ordered before the training set. All these products could potenially have been reordered in the training set. "
   ]
  },
  {
   "cell_type": "code",
   "execution_count": 5,
   "metadata": {},
   "outputs": [],
   "source": [
    "which_set = \"train\""
   ]
  },
  {
   "cell_type": "code",
   "execution_count": 6,
   "metadata": {},
   "outputs": [],
   "source": [
    "flatfile = PrepFlatfile(order_products_gesamt,orders,which_set)"
   ]
  },
  {
   "cell_type": "markdown",
   "metadata": {},
   "source": [
    "In the following we also calculate the target. The flatfile is joined with all the user, product_cominations in the training set. If the product is also in the train set the label is 1. If the product is not in the training set the label is 0."
   ]
  },
  {
   "cell_type": "code",
   "execution_count": 7,
   "metadata": {},
   "outputs": [],
   "source": [
    "flatfile = PrepTarget(flatfile,order_products_gesamt)\n"
   ]
  },
  {
   "cell_type": "markdown",
   "metadata": {},
   "source": [
    "# Recency & Frequency\n",
    "\n",
    "I am going to start building a  model with some basic features.\n",
    "\n",
    "The first features I am going to build are the following\n",
    "\n",
    "* Frequency: How often has a customer previously ordered an item\n",
    "* Frequency relative: In how many of the orders of a customer has the item been\n",
    "* Recency: How long ago was the last time a user ordered an item\n",
    "* In how many of the last three (just first guess) of \n",
    "\n",
    "All of these features caputre the user-item relation\n"
   ]
  },
  {
   "cell_type": "code",
   "execution_count": 8,
   "metadata": {},
   "outputs": [],
   "source": [
    "flatfile = UserItemFreq(flatfile,order_products_gesamt,orders,which_set)"
   ]
  },
  {
   "cell_type": "code",
   "execution_count": 9,
   "metadata": {},
   "outputs": [],
   "source": [
    "last_order_of_item = LastOrdOfItem(order_products_gesamt,which_set)\n",
    "flatfile = flatfile.merge(last_order_of_item,how = 'left', on = ['user_id','product_id'])"
   ]
  },
  {
   "cell_type": "code",
   "execution_count": 10,
   "metadata": {},
   "outputs": [],
   "source": [
    "flatfile = TimeToLastOrd(flatfile,orders,which_set)"
   ]
  },
  {
   "cell_type": "markdown",
   "metadata": {},
   "source": [
    "# Average Position in Card"
   ]
  },
  {
   "cell_type": "markdown",
   "metadata": {},
   "source": [
    "Potentially the average to card order could have an influence. Items which tend to always get chosen first might also be more relevant. Or vice versa items always chosen last could be less likely to be in an order"
   ]
  },
  {
   "cell_type": "code",
   "execution_count": 11,
   "metadata": {},
   "outputs": [],
   "source": [
    "flatfile = AvgToCardOrder(flatfile,order_products_gesamt,which_set)"
   ]
  },
  {
   "cell_type": "markdown",
   "metadata": {},
   "source": [
    "# Time of Day\n",
    "\n",
    "There could be patterns that products tend to be bought at specific time (from specific users). The following three features try to capture that:\n",
    "* How often has the item already been bought at the same time as the train order is done from a specific user (user-product-level)\n",
    "* In how many orders at a given time of day has the product been bought (user-product-level)\n",
    "* Is the product generally ordered during the time of day the order is placed (product-level)"
   ]
  },
  {
   "cell_type": "code",
   "execution_count": 12,
   "metadata": {},
   "outputs": [],
   "source": [
    "# product order and order table need information about time of day\n",
    "flatfile,order_products_gesamt,orders = AddTimeOfDay(flatfile,order_products_gesamt,orders)\n",
    "flatfile = PrepTimeOfDayUser(flatfile,order_products_gesamt,orders,which_set)\n",
    "flatfile = PrepTimeOfDayProduct(flatfile,order_products_gesamt,orders,which_set)"
   ]
  },
  {
   "cell_type": "markdown",
   "metadata": {},
   "source": [
    "# General \n",
    "\n",
    "If a item A is bought more often then item B, item A will be in more orders. Thus the probability that item A is ordered is higher than that of B. The following features are built:\n",
    "\n",
    "* How many of the orders contain that specific item \n",
    "* Is the item one of the 10 % most ordered items (why 10 %? Just a first try) \n",
    "\n",
    "My intuition is that that probably the other user product features will be more important.\n",
    "\n",
    "\n"
   ]
  },
  {
   "cell_type": "code",
   "execution_count": 13,
   "metadata": {},
   "outputs": [],
   "source": [
    "flatfile = GeneralItemFreq(flatfile,order_products_gesamt,which_set)"
   ]
  },
  {
   "cell_type": "markdown",
   "metadata": {},
   "source": [
    "The flatfile is save to disk so that it can later be used for the modeling. Also a small sample data set is saved to develop the workflow."
   ]
  },
  {
   "cell_type": "code",
   "execution_count": 15,
   "metadata": {},
   "outputs": [],
   "source": [
    "flatfile.to_csv(os.path.join(data_dir,\"02_intermediate/flatfile.csv\"),index=False)\n",
    "SampleSaveFlatfile(flatfile,1000,data_dir)"
   ]
  }
 ],
 "metadata": {
  "kernelspec": {
   "display_name": "Python 3",
   "language": "python",
   "name": "python3"
  },
  "language_info": {
   "codemirror_mode": {
    "name": "ipython",
    "version": 3
   },
   "file_extension": ".py",
   "mimetype": "text/x-python",
   "name": "python",
   "nbconvert_exporter": "python",
   "pygments_lexer": "ipython3",
   "version": "3.6.5"
  }
 },
 "nbformat": 4,
 "nbformat_minor": 2
}
