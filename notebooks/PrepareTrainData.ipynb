{
 "cells": [
  {
   "cell_type": "code",
   "execution_count": 1,
   "metadata": {},
   "outputs": [],
   "source": [
    "# Set directories \n",
    "import os\n",
    "import sys\n",
    "src_dir = os.path.join(os.getcwd(), '..', 'src')\n",
    "sys.path.append(src_dir)\n",
    "data_dir = os.path.join(os.getcwd(), '..', 'data')\n",
    "#from IPython.core.debugger import set_trace\n",
    "\n",
    "# Import Functions\n",
    "import pandas as pd\n",
    "from d00_utils.example_func import greet\n"
   ]
  },
  {
   "cell_type": "markdown",
   "metadata": {},
   "source": [
    "With the following code I want to prepare the training set so that I can fit a first simple model. First I have to correctly structure the training set\n",
    "\n",
    "\n",
    "\n",
    "\n",
    "\n",
    "Prior concat train\n",
    "Left join orders \n",
    "orders_and_items = User, order_id,item, order_nr, more info \n",
    "\n",
    "train_order_user = train, group by user, max order  \n",
    "max_order_item = Group by user Id, product get max order \n",
    "Train order user left join max order item if max order == train order \n",
    "Train and prior order group by user item max (order)"
   ]
  },
  {
   "cell_type": "code",
   "execution_count": 103,
   "metadata": {},
   "outputs": [],
   "source": [
    "order_product_prior = pd.read_csv(os.path.join(data_dir,\"01_raw/order_products__prior.csv\"))\n",
    "order_product_train = pd.read_csv(os.path.join(data_dir,\"01_raw/order_products__train.csv\"))\n",
    "orders = pd.read_csv(os.path.join(data_dir,\"01_raw/orders.csv\"))\n",
    "products = pd.read_csv(os.path.join(data_dir,\"01_raw/products.csv\"))\n",
    "aisles = pd.read_csv(os.path.join(data_dir,\"01_raw/aisles.csv\"))\n",
    "departments = pd.read_csv(os.path.join(data_dir,\"01_raw/departments.csv\"))\n"
   ]
  },
  {
   "cell_type": "code",
   "execution_count": 104,
   "metadata": {},
   "outputs": [],
   "source": [
    "# union all all info about which product in which order \n",
    "order_product_train['eval_set'] = 'train'\n",
    "order_product_prior['eval_set'] = 'prior'\n",
    "order_product_gesamt = pd.concat([order_product_prior,order_product_train])\n",
    "\n",
    "# reduce order to orders of only a small subset of users to test \n",
    "orders = orders.loc[orders.user_id <= 100,:]\n",
    "\n",
    "# reduce order_product_gesamt to only include these few users (inner join)\n",
    "# add additional order information to order_product_gesamt \n",
    "order_product_gesamt = order_product_gesamt.merge(orders.loc[:, ['order_id','user_id','order_number'] ],how=\"inner\",on = \"order_id\")\n"
   ]
  },
  {
   "cell_type": "markdown",
   "metadata": {},
   "source": [
    "* order_product_train bzw. order_product_prior contain the products (product_Id) which were in a specific order\n",
    "* orders contains more specific information about each order\n",
    "    * which user\n",
    "    * which set the order is in (train, test, prior) \n",
    "    * information about the timing \n"
   ]
  },
  {
   "cell_type": "markdown",
   "metadata": {},
   "source": [
    "get all orders of customers\n"
   ]
  },
  {
   "cell_type": "code",
   "execution_count": null,
   "metadata": {},
   "outputs": [],
   "source": [
    "order_product_gesamt.head(2)"
   ]
  },
  {
   "cell_type": "code",
   "execution_count": null,
   "metadata": {},
   "outputs": [],
   "source": [
    "orders.head(2)"
   ]
  },
  {
   "cell_type": "markdown",
   "metadata": {},
   "source": [
    "Create Trainset\n",
    "\n",
    "* For each item a user purchased get the last order it was included\n",
    "* \n"
   ]
  },
  {
   "cell_type": "code",
   "execution_count": 65,
   "metadata": {},
   "outputs": [],
   "source": [
    "def prepare_flatfile(order_product_gesamt,orders,which_set):\n",
    "    # get all items previously ordered items - in train only check items which were ordered prior \n",
    "    # (automatically excludes products which were ordered in train for the first time)\n",
    "    if which_set == 'train':\n",
    "        order_product_gesamt = order_product_gesamt.loc[order_product_gesamt.eval_set != 'train']\n",
    "    flatfile = order_product_gesamt.loc[:,['user_id','product_id']].drop_duplicates().reset_index()\n",
    "    \n",
    "    # get all orders from the specific set - some users are only in train or test (or neither?) \n",
    "    rel_orders = orders.loc[orders.eval_set == which_set,['user_id','order_id','order_number']].rename(\n",
    "       columns={'order_number': 'ff_order_number', 'order_id': 'ff_order_id'})\n",
    "    \n",
    "    flatfile = flatfile.merge(rel_orders,how = 'inner',on = 'user_id')\n",
    "        \n",
    "    return(flatfile)"
   ]
  },
  {
   "cell_type": "code",
   "execution_count": 64,
   "metadata": {},
   "outputs": [],
   "source": [
    "def prepare_target(train,order_product_gesamt):\n",
    "    # get all orders of user\n",
    "        \n",
    "    prod_in_train = order_product_gesamt.loc[order_product_gesamt.eval_set == 'train',['order_id','product_id','eval_set']]\n",
    "        \n",
    "    train = train.merge(prod_in_train,left_on = ['ff_order_id','product_id'],right_on = ['order_id','product_id'] ,how='left')\n",
    "        \n",
    "    train['target'] = train['eval_set'].apply(lambda x: 0 if pd.isnull(x) else 1)\n",
    "    \n",
    "    train = train.drop(columns = ['order_id','eval_set'])\n",
    "        \n",
    "    return(train)"
   ]
  },
  {
   "cell_type": "code",
   "execution_count": 66,
   "metadata": {},
   "outputs": [],
   "source": [
    "train = prepare_flatfile(order_product_gesamt,orders,'train')\n",
    "train = prepare_target(train,order_product_gesamt)\n"
   ]
  },
  {
   "cell_type": "code",
   "execution_count": 69,
   "metadata": {},
   "outputs": [
    {
     "data": {
      "text/html": [
       "<div>\n",
       "<style scoped>\n",
       "    .dataframe tbody tr th:only-of-type {\n",
       "        vertical-align: middle;\n",
       "    }\n",
       "\n",
       "    .dataframe tbody tr th {\n",
       "        vertical-align: top;\n",
       "    }\n",
       "\n",
       "    .dataframe thead th {\n",
       "        text-align: right;\n",
       "    }\n",
       "</style>\n",
       "<table border=\"1\" class=\"dataframe\">\n",
       "  <thead>\n",
       "    <tr style=\"text-align: right;\">\n",
       "      <th></th>\n",
       "      <th>order_id</th>\n",
       "      <th>product_id</th>\n",
       "      <th>add_to_cart_order</th>\n",
       "      <th>reordered</th>\n",
       "      <th>eval_set</th>\n",
       "      <th>user_id</th>\n",
       "      <th>order_number</th>\n",
       "    </tr>\n",
       "  </thead>\n",
       "  <tbody>\n",
       "    <tr>\n",
       "      <th>13215</th>\n",
       "      <td>1318796</td>\n",
       "      <td>33318</td>\n",
       "      <td>1</td>\n",
       "      <td>1</td>\n",
       "      <td>train</td>\n",
       "      <td>90</td>\n",
       "      <td>72</td>\n",
       "    </tr>\n",
       "    <tr>\n",
       "      <th>13216</th>\n",
       "      <td>1318796</td>\n",
       "      <td>32648</td>\n",
       "      <td>2</td>\n",
       "      <td>1</td>\n",
       "      <td>train</td>\n",
       "      <td>90</td>\n",
       "      <td>72</td>\n",
       "    </tr>\n",
       "    <tr>\n",
       "      <th>13217</th>\n",
       "      <td>1318796</td>\n",
       "      <td>36994</td>\n",
       "      <td>3</td>\n",
       "      <td>1</td>\n",
       "      <td>train</td>\n",
       "      <td>90</td>\n",
       "      <td>72</td>\n",
       "    </tr>\n",
       "    <tr>\n",
       "      <th>13218</th>\n",
       "      <td>1318796</td>\n",
       "      <td>19204</td>\n",
       "      <td>4</td>\n",
       "      <td>1</td>\n",
       "      <td>train</td>\n",
       "      <td>90</td>\n",
       "      <td>72</td>\n",
       "    </tr>\n",
       "    <tr>\n",
       "      <th>13219</th>\n",
       "      <td>1318796</td>\n",
       "      <td>939</td>\n",
       "      <td>5</td>\n",
       "      <td>1</td>\n",
       "      <td>train</td>\n",
       "      <td>90</td>\n",
       "      <td>72</td>\n",
       "    </tr>\n",
       "  </tbody>\n",
       "</table>\n",
       "</div>"
      ],
      "text/plain": [
       "       order_id  product_id  add_to_cart_order  reordered eval_set  user_id  \\\n",
       "13215   1318796       33318                  1          1    train       90   \n",
       "13216   1318796       32648                  2          1    train       90   \n",
       "13217   1318796       36994                  3          1    train       90   \n",
       "13218   1318796       19204                  4          1    train       90   \n",
       "13219   1318796         939                  5          1    train       90   \n",
       "\n",
       "       order_number  \n",
       "13215            72  \n",
       "13216            72  \n",
       "13217            72  \n",
       "13218            72  \n",
       "13219            72  "
      ]
     },
     "execution_count": 69,
     "metadata": {},
     "output_type": "execute_result"
    }
   ],
   "source": [
    "train.loc[(train.user_id) == 90 & (train.target == 1)]\n",
    "order_product_gesamt.loc[(order_product_gesamt.user_id == 90) & (order_product_gesamt.eval_set == 'train')]"
   ]
  },
  {
   "cell_type": "code",
   "execution_count": 75,
   "metadata": {},
   "outputs": [],
   "source": [
    "def get_item_frequency(train,order_product_gesamt,which_set): \n",
    "    \n",
    "    if which_set == 'train':\n",
    "        order_product_gesamt = order_product_gesamt.loc[order_product_gesamt.eval_set != 'train']\n",
    "    \n",
    "    orders_per_item = order_product_gesamt.groupby(\n",
    "        ['user_id','product_id']).size().reset_index(name='user_item_order_freq')\n",
    "        \n",
    "    train = train.merge(orders_per_item,how = 'left',on = ['user_id','product_id'])\n",
    "    return(train)"
   ]
  },
  {
   "cell_type": "code",
   "execution_count": 77,
   "metadata": {},
   "outputs": [],
   "source": [
    "train = get_item_frequency(train,order_product_gesamt,'train')"
   ]
  },
  {
   "cell_type": "code",
   "execution_count": 84,
   "metadata": {},
   "outputs": [],
   "source": [
    "def get_last_order_of_item(order_product_gesamt,which_set):\n",
    "    # df is a dataframe of all product orders excluding the test orders\n",
    "    # for each user and all of his ordered items: what was the last order an item was ordered in\n",
    "    if which_set == 'train':\n",
    "        order_product_gesamt = order_product_gesamt.loc[order_product_gesamt.eval_set != 'train']\n",
    "    \n",
    "    last_order_item = order_product_gesamt.groupby(['user_id','product_id']).agg( {'order_number': 'max'} ).reset_index()\n",
    "    # get the order ids for each order of each user \n",
    "    id_of_each_order = order_product_gesamt.loc[:,['user_id','order_number','order_id']].drop_duplicates().reset_index(drop=True)\n",
    "    last_order_item = last_order_item.merge(id_of_each_order,how=\"inner\",on = ['user_id','order_number'])\n",
    "    last_order_item = last_order_item.rename(columns={'order_number': 'last_order_number', 'order_id': 'last_order_id'})\n",
    "    return(last_order_item)"
   ]
  },
  {
   "cell_type": "code",
   "execution_count": 93,
   "metadata": {},
   "outputs": [],
   "source": [
    "orders_pre_train = get_last_order_of_item(order_product_gesamt,'train')\n",
    "train = train.merge(orders_pre_train,how = 'left', on = ['user_id','product_id'])"
   ]
  },
  {
   "cell_type": "code",
   "execution_count": 129,
   "metadata": {},
   "outputs": [],
   "source": [
    "def get_time_to_last_order(train,orders,which_set):\n",
    "    # for every user,item get the last order before the train order\n",
    "    # for each order calculate the distance in days to the train order \n",
    "    orders = orders.loc[orders.eval_set != \"test\"]\n",
    "    \n",
    "    orders = orders.set_index('order_number').sort_index(ascending = False)\n",
    "\n",
    "    orders['order_days_cumsum'] = orders.groupby(\n",
    "    'user_id')['days_since_prior_order'].transform(pd.Series.cumsum)\n",
    "    orders['order_days_cumsum'] = orders.groupby('user_id')['order_days_cumsum'].shift(periods=1).fillna(value=0)\n",
    "    orders = orders.reset_index()\n",
    "\n",
    "    orders = orders.loc[:,['order_id','order_days_cumsum']]\n",
    "    \n",
    "    train = train.merge(orders,how='left',left_on = 'last_order_id',right_on = 'order_id')\n",
    "    \n",
    "    return(train)"
   ]
  },
  {
   "cell_type": "code",
   "execution_count": 131,
   "metadata": {},
   "outputs": [],
   "source": [
    "train = get_time_to_last_order(train,orders,'train')"
   ]
  }
 ],
 "metadata": {
  "kernelspec": {
   "display_name": "Python 3",
   "language": "python",
   "name": "python3"
  },
  "language_info": {
   "codemirror_mode": {
    "name": "ipython",
    "version": 3
   },
   "file_extension": ".py",
   "mimetype": "text/x-python",
   "name": "python",
   "nbconvert_exporter": "python",
   "pygments_lexer": "ipython3",
   "version": "3.6.5"
  }
 },
 "nbformat": 4,
 "nbformat_minor": 2
}
